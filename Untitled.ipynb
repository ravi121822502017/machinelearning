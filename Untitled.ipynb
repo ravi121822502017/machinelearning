{
 "cells": [
  {
   "cell_type": "code",
   "execution_count": 1,
   "metadata": {},
   "outputs": [
    {
     "name": "stdout",
     "output_type": "stream",
     "text": [
      "<class 'pandas.core.frame.DataFrame'>\n",
      "RangeIndex: 26 entries, 0 to 25\n",
      "Data columns (total 6 columns):\n",
      "Timestamp        26 non-null object\n",
      "Name             26 non-null object\n",
      "MailId           26 non-null object\n",
      "Branch           26 non-null object\n",
      "Qualification    26 non-null object\n",
      "RollNumber       26 non-null object\n",
      "dtypes: object(6)\n",
      "memory usage: 1.3+ KB\n"
     ]
    }
   ],
   "source": [
    "import pandas as pd\n",
    "data=pd.read_csv('https://raw.githubusercontent.com/sumathi16/Machine-Learning-with-Python/master/data/Student%20Data%20ML%20Jan%20(Responses)%20-%20Form%20responses%201.csv')\n",
    "data.info()"
   ]
  },
  {
   "cell_type": "code",
   "execution_count": 3,
   "metadata": {},
   "outputs": [
    {
     "data": {
      "text/plain": [
       "<bound method NDFrame.describe of               Timestamp                       Name  \\\n",
       "0   30/01/2020 15:00:07              Sai Naga Raju   \n",
       "1   30/01/2020 15:00:20                   R deepak   \n",
       "2   30/01/2020 15:00:23              P K CHAITANYA   \n",
       "3   30/01/2020 15:00:25                 B SRIKANTH   \n",
       "4   30/01/2020 15:00:28           Himaja cherukuri   \n",
       "5   30/01/2020 15:00:28              M.Geethanjali   \n",
       "6   30/01/2020 15:00:33                  M.Nikhita   \n",
       "7   30/01/2020 15:00:37           DASARI PAVAN SAI   \n",
       "8   30/01/2020 15:00:39              B Jagan Mohan   \n",
       "9   30/01/2020 15:00:41          k.parameswara rao   \n",
       "10  30/01/2020 15:00:43           B.Ravindra kumar   \n",
       "11  30/01/2020 15:00:44        P.M.S.Bhargav Kumar   \n",
       "12  30/01/2020 15:00:45      Thatavarti kavya sree   \n",
       "13  30/01/2020 15:01:10               Harish Bandi   \n",
       "14  30/01/2020 15:01:16     M.Bhavani Sankar Reddy   \n",
       "15  30/01/2020 15:01:24             Devendra Kumar   \n",
       "16  30/01/2020 15:01:35                    M.Ramya   \n",
       "17  30/01/2020 15:01:49            T.V.Naga Jyothi   \n",
       "18  30/01/2020 15:01:50             Ananda Lakshmi   \n",
       "19  30/01/2020 15:01:56                K . krishna   \n",
       "20  30/01/2020 15:02:04       Md.Ali Asghar Khoyee   \n",
       "21  30/01/2020 15:02:41           G. Vineeth Kumar   \n",
       "22  30/01/2020 15:02:49  JAYA NAVEEN KUMAR DUPPATI   \n",
       "23  30/01/2020 15:02:59                   vikram S   \n",
       "24  30/01/2020 15:04:10            SAI TEJA JALADI   \n",
       "25  30/01/2020 15:07:38         SAIKUMAR MANIKONDA   \n",
       "\n",
       "                              MailId                  Branch Qualification  \\\n",
       "0   sainagarajusakhamuri99@gmail.com                      IT        B.Tech   \n",
       "1             deepakrella9@gmail.com                     MCA            PG   \n",
       "2               chaitu1495@gmail.com                     MCA            PG   \n",
       "3            srikanthbisai@gmail.com                     MCA            PG   \n",
       "4          himajacherukuri@gmail.com                     cse         BTech   \n",
       "5            geethamuppuri@gmail.com                     CSE        B.Tech   \n",
       "6             muvvanikhita@gmail.com                     CSE        B.Tech   \n",
       "7           pavandasari226@gmail.com  Information Technology        B.Tech   \n",
       "8            bjaganmohan24@gmail.com            Data Science          M.sc   \n",
       "9     parameshkarumuri1997@gmail.com                     MCA            PG   \n",
       "10    ravindrakumarroyal12@gmail.com             DataScience           Msc   \n",
       "11     bhargavperumalla123@gmail.com        Computer Science           MCA   \n",
       "12         kavyathatavarti@gmail.com                      IT        B.Tech   \n",
       "13           harishbandi12@gmail.com  Information Technology        B.TECH   \n",
       "14       bhavanisankar5758@gmail.com            Data Science           MSc   \n",
       "15          devendra108148@gmail.com                     ECE        B.Tech   \n",
       "16        ramya.marripoodi@gmail.com  Information Technology        B.Tech   \n",
       "17            tvnagajyothi@gmail.com  Information Technology        B.tech   \n",
       "18         p.anandalakshmi@gmail.com        b com(computers)        degree   \n",
       "19           saikamavarapu@gmail.com              B.Sc(comp)        Degree   \n",
       "20             ali95asghar@gmail.com        Computer Science           MCA   \n",
       "21             121822502016@gitam.in            Data Science          M.Sc   \n",
       "22       duppatijayanaveen@gmail.com                     I.T        B.TECH   \n",
       "23     vikramsabbavarapu60@gmail.com       civil engineering        B-tech   \n",
       "24       saitejajaladi2000@gmail.com                     I.T        B.TECH   \n",
       "25             saikumarm64@gmail.com  Automobile Engineering           B.E   \n",
       "\n",
       "      RollNumber  \n",
       "0     161FA07039  \n",
       "1   121722501019  \n",
       "2   121722501015  \n",
       "3   121722501002  \n",
       "4     161fa04079  \n",
       "5     161FA04180  \n",
       "6     161FA04106  \n",
       "7     161FA07042  \n",
       "8   121822502015  \n",
       "9   121722501011  \n",
       "10  121822502017  \n",
       "11  121722501026  \n",
       "12    161FA07050  \n",
       "13    161FA07035  \n",
       "14  121822502018  \n",
       "15    14F41A0461  \n",
       "16    161FA07002  \n",
       "17    161FA07049  \n",
       "18    y167189053  \n",
       "19  140082202030  \n",
       "20  121722501013  \n",
       "21  121822502016  \n",
       "22    161FA07012  \n",
       "23    133J1A0150  \n",
       "24    161FA07025  \n",
       "25  245112769310  >"
      ]
     },
     "execution_count": 3,
     "metadata": {},
     "output_type": "execute_result"
    }
   ],
   "source": [
    "data.describe"
   ]
  },
  {
   "cell_type": "code",
   "execution_count": 4,
   "metadata": {},
   "outputs": [
    {
     "data": {
      "text/html": [
       "<div>\n",
       "<style scoped>\n",
       "    .dataframe tbody tr th:only-of-type {\n",
       "        vertical-align: middle;\n",
       "    }\n",
       "\n",
       "    .dataframe tbody tr th {\n",
       "        vertical-align: top;\n",
       "    }\n",
       "\n",
       "    .dataframe thead th {\n",
       "        text-align: right;\n",
       "    }\n",
       "</style>\n",
       "<table border=\"1\" class=\"dataframe\">\n",
       "  <thead>\n",
       "    <tr style=\"text-align: right;\">\n",
       "      <th></th>\n",
       "      <th>Timestamp</th>\n",
       "      <th>Name</th>\n",
       "      <th>MailId</th>\n",
       "      <th>Branch</th>\n",
       "      <th>Qualification</th>\n",
       "      <th>RollNumber</th>\n",
       "    </tr>\n",
       "  </thead>\n",
       "  <tbody>\n",
       "    <tr>\n",
       "      <td>count</td>\n",
       "      <td>26</td>\n",
       "      <td>26</td>\n",
       "      <td>26</td>\n",
       "      <td>26</td>\n",
       "      <td>26</td>\n",
       "      <td>26</td>\n",
       "    </tr>\n",
       "    <tr>\n",
       "      <td>unique</td>\n",
       "      <td>25</td>\n",
       "      <td>26</td>\n",
       "      <td>26</td>\n",
       "      <td>14</td>\n",
       "      <td>14</td>\n",
       "      <td>26</td>\n",
       "    </tr>\n",
       "    <tr>\n",
       "      <td>top</td>\n",
       "      <td>30/01/2020 15:00:28</td>\n",
       "      <td>DASARI PAVAN SAI</td>\n",
       "      <td>devendra108148@gmail.com</td>\n",
       "      <td>Information Technology</td>\n",
       "      <td>B.Tech</td>\n",
       "      <td>245112769310</td>\n",
       "    </tr>\n",
       "    <tr>\n",
       "      <td>freq</td>\n",
       "      <td>2</td>\n",
       "      <td>1</td>\n",
       "      <td>1</td>\n",
       "      <td>4</td>\n",
       "      <td>7</td>\n",
       "      <td>1</td>\n",
       "    </tr>\n",
       "  </tbody>\n",
       "</table>\n",
       "</div>"
      ],
      "text/plain": [
       "                  Timestamp              Name                    MailId  \\\n",
       "count                    26                26                        26   \n",
       "unique                   25                26                        26   \n",
       "top     30/01/2020 15:00:28  DASARI PAVAN SAI  devendra108148@gmail.com   \n",
       "freq                      2                 1                         1   \n",
       "\n",
       "                        Branch Qualification    RollNumber  \n",
       "count                       26            26            26  \n",
       "unique                      14            14            26  \n",
       "top     Information Technology        B.Tech  245112769310  \n",
       "freq                         4             7             1  "
      ]
     },
     "execution_count": 4,
     "metadata": {},
     "output_type": "execute_result"
    }
   ],
   "source": [
    "data.describe()"
   ]
  },
  {
   "cell_type": "code",
   "execution_count": 5,
   "metadata": {},
   "outputs": [
    {
     "data": {
      "text/plain": [
       "Information Technology    4\n",
       "MCA                       4\n",
       "Data Science              3\n",
       "CSE                       2\n",
       "Computer Science          2\n",
       "I.T                       2\n",
       "IT                        2\n",
       "b com(computers)          1\n",
       "DataScience               1\n",
       "civil engineering         1\n",
       "Automobile Engineering    1\n",
       "B.Sc(comp)                1\n",
       "cse                       1\n",
       "ECE                       1\n",
       "Name: Branch, dtype: int64"
      ]
     },
     "execution_count": 5,
     "metadata": {},
     "output_type": "execute_result"
    }
   ],
   "source": [
    "data.Branch.value_counts()"
   ]
  },
  {
   "cell_type": "code",
   "execution_count": 15,
   "metadata": {},
   "outputs": [
    {
     "ename": "KeyError",
     "evalue": "'Timestammp_dt'",
     "output_type": "error",
     "traceback": [
      "\u001b[1;31m---------------------------------------------------------------------------\u001b[0m",
      "\u001b[1;31mKeyError\u001b[0m                                  Traceback (most recent call last)",
      "\u001b[1;32m~\\Anaconda3\\lib\\site-packages\\pandas\\core\\indexes\\base.py\u001b[0m in \u001b[0;36mget_loc\u001b[1;34m(self, key, method, tolerance)\u001b[0m\n\u001b[0;32m   2896\u001b[0m             \u001b[1;32mtry\u001b[0m\u001b[1;33m:\u001b[0m\u001b[1;33m\u001b[0m\u001b[1;33m\u001b[0m\u001b[0m\n\u001b[1;32m-> 2897\u001b[1;33m                 \u001b[1;32mreturn\u001b[0m \u001b[0mself\u001b[0m\u001b[1;33m.\u001b[0m\u001b[0m_engine\u001b[0m\u001b[1;33m.\u001b[0m\u001b[0mget_loc\u001b[0m\u001b[1;33m(\u001b[0m\u001b[0mkey\u001b[0m\u001b[1;33m)\u001b[0m\u001b[1;33m\u001b[0m\u001b[1;33m\u001b[0m\u001b[0m\n\u001b[0m\u001b[0;32m   2898\u001b[0m             \u001b[1;32mexcept\u001b[0m \u001b[0mKeyError\u001b[0m\u001b[1;33m:\u001b[0m\u001b[1;33m\u001b[0m\u001b[1;33m\u001b[0m\u001b[0m\n",
      "\u001b[1;32mpandas\\_libs\\index.pyx\u001b[0m in \u001b[0;36mpandas._libs.index.IndexEngine.get_loc\u001b[1;34m()\u001b[0m\n",
      "\u001b[1;32mpandas\\_libs\\index.pyx\u001b[0m in \u001b[0;36mpandas._libs.index.IndexEngine.get_loc\u001b[1;34m()\u001b[0m\n",
      "\u001b[1;32mpandas\\_libs\\hashtable_class_helper.pxi\u001b[0m in \u001b[0;36mpandas._libs.hashtable.PyObjectHashTable.get_item\u001b[1;34m()\u001b[0m\n",
      "\u001b[1;32mpandas\\_libs\\hashtable_class_helper.pxi\u001b[0m in \u001b[0;36mpandas._libs.hashtable.PyObjectHashTable.get_item\u001b[1;34m()\u001b[0m\n",
      "\u001b[1;31mKeyError\u001b[0m: 'Timestammp_dt'",
      "\nDuring handling of the above exception, another exception occurred:\n",
      "\u001b[1;31mKeyError\u001b[0m                                  Traceback (most recent call last)",
      "\u001b[1;32m<ipython-input-15-d62826a83b59>\u001b[0m in \u001b[0;36m<module>\u001b[1;34m\u001b[0m\n\u001b[1;32m----> 1\u001b[1;33m \u001b[0mdata\u001b[0m\u001b[1;33m[\u001b[0m\u001b[1;34m'seconds'\u001b[0m\u001b[1;33m]\u001b[0m\u001b[1;33m=\u001b[0m\u001b[0mdata\u001b[0m\u001b[1;33m[\u001b[0m\u001b[1;34m'Timestammp_dt'\u001b[0m\u001b[1;33m]\u001b[0m\u001b[1;33m.\u001b[0m\u001b[0mdt\u001b[0m\u001b[1;33m.\u001b[0m\u001b[0msecond\u001b[0m\u001b[1;33m\u001b[0m\u001b[1;33m\u001b[0m\u001b[0m\n\u001b[0m\u001b[0;32m      2\u001b[0m \u001b[0mdata\u001b[0m\u001b[1;33m.\u001b[0m\u001b[0mdescribe\u001b[0m\u001b[1;33m(\u001b[0m\u001b[1;33m)\u001b[0m\u001b[1;33m\u001b[0m\u001b[1;33m\u001b[0m\u001b[0m\n",
      "\u001b[1;32m~\\Anaconda3\\lib\\site-packages\\pandas\\core\\frame.py\u001b[0m in \u001b[0;36m__getitem__\u001b[1;34m(self, key)\u001b[0m\n\u001b[0;32m   2978\u001b[0m             \u001b[1;32mif\u001b[0m \u001b[0mself\u001b[0m\u001b[1;33m.\u001b[0m\u001b[0mcolumns\u001b[0m\u001b[1;33m.\u001b[0m\u001b[0mnlevels\u001b[0m \u001b[1;33m>\u001b[0m \u001b[1;36m1\u001b[0m\u001b[1;33m:\u001b[0m\u001b[1;33m\u001b[0m\u001b[1;33m\u001b[0m\u001b[0m\n\u001b[0;32m   2979\u001b[0m                 \u001b[1;32mreturn\u001b[0m \u001b[0mself\u001b[0m\u001b[1;33m.\u001b[0m\u001b[0m_getitem_multilevel\u001b[0m\u001b[1;33m(\u001b[0m\u001b[0mkey\u001b[0m\u001b[1;33m)\u001b[0m\u001b[1;33m\u001b[0m\u001b[1;33m\u001b[0m\u001b[0m\n\u001b[1;32m-> 2980\u001b[1;33m             \u001b[0mindexer\u001b[0m \u001b[1;33m=\u001b[0m \u001b[0mself\u001b[0m\u001b[1;33m.\u001b[0m\u001b[0mcolumns\u001b[0m\u001b[1;33m.\u001b[0m\u001b[0mget_loc\u001b[0m\u001b[1;33m(\u001b[0m\u001b[0mkey\u001b[0m\u001b[1;33m)\u001b[0m\u001b[1;33m\u001b[0m\u001b[1;33m\u001b[0m\u001b[0m\n\u001b[0m\u001b[0;32m   2981\u001b[0m             \u001b[1;32mif\u001b[0m \u001b[0mis_integer\u001b[0m\u001b[1;33m(\u001b[0m\u001b[0mindexer\u001b[0m\u001b[1;33m)\u001b[0m\u001b[1;33m:\u001b[0m\u001b[1;33m\u001b[0m\u001b[1;33m\u001b[0m\u001b[0m\n\u001b[0;32m   2982\u001b[0m                 \u001b[0mindexer\u001b[0m \u001b[1;33m=\u001b[0m \u001b[1;33m[\u001b[0m\u001b[0mindexer\u001b[0m\u001b[1;33m]\u001b[0m\u001b[1;33m\u001b[0m\u001b[1;33m\u001b[0m\u001b[0m\n",
      "\u001b[1;32m~\\Anaconda3\\lib\\site-packages\\pandas\\core\\indexes\\base.py\u001b[0m in \u001b[0;36mget_loc\u001b[1;34m(self, key, method, tolerance)\u001b[0m\n\u001b[0;32m   2897\u001b[0m                 \u001b[1;32mreturn\u001b[0m \u001b[0mself\u001b[0m\u001b[1;33m.\u001b[0m\u001b[0m_engine\u001b[0m\u001b[1;33m.\u001b[0m\u001b[0mget_loc\u001b[0m\u001b[1;33m(\u001b[0m\u001b[0mkey\u001b[0m\u001b[1;33m)\u001b[0m\u001b[1;33m\u001b[0m\u001b[1;33m\u001b[0m\u001b[0m\n\u001b[0;32m   2898\u001b[0m             \u001b[1;32mexcept\u001b[0m \u001b[0mKeyError\u001b[0m\u001b[1;33m:\u001b[0m\u001b[1;33m\u001b[0m\u001b[1;33m\u001b[0m\u001b[0m\n\u001b[1;32m-> 2899\u001b[1;33m                 \u001b[1;32mreturn\u001b[0m \u001b[0mself\u001b[0m\u001b[1;33m.\u001b[0m\u001b[0m_engine\u001b[0m\u001b[1;33m.\u001b[0m\u001b[0mget_loc\u001b[0m\u001b[1;33m(\u001b[0m\u001b[0mself\u001b[0m\u001b[1;33m.\u001b[0m\u001b[0m_maybe_cast_indexer\u001b[0m\u001b[1;33m(\u001b[0m\u001b[0mkey\u001b[0m\u001b[1;33m)\u001b[0m\u001b[1;33m)\u001b[0m\u001b[1;33m\u001b[0m\u001b[1;33m\u001b[0m\u001b[0m\n\u001b[0m\u001b[0;32m   2900\u001b[0m         \u001b[0mindexer\u001b[0m \u001b[1;33m=\u001b[0m \u001b[0mself\u001b[0m\u001b[1;33m.\u001b[0m\u001b[0mget_indexer\u001b[0m\u001b[1;33m(\u001b[0m\u001b[1;33m[\u001b[0m\u001b[0mkey\u001b[0m\u001b[1;33m]\u001b[0m\u001b[1;33m,\u001b[0m \u001b[0mmethod\u001b[0m\u001b[1;33m=\u001b[0m\u001b[0mmethod\u001b[0m\u001b[1;33m,\u001b[0m \u001b[0mtolerance\u001b[0m\u001b[1;33m=\u001b[0m\u001b[0mtolerance\u001b[0m\u001b[1;33m)\u001b[0m\u001b[1;33m\u001b[0m\u001b[1;33m\u001b[0m\u001b[0m\n\u001b[0;32m   2901\u001b[0m         \u001b[1;32mif\u001b[0m \u001b[0mindexer\u001b[0m\u001b[1;33m.\u001b[0m\u001b[0mndim\u001b[0m \u001b[1;33m>\u001b[0m \u001b[1;36m1\u001b[0m \u001b[1;32mor\u001b[0m \u001b[0mindexer\u001b[0m\u001b[1;33m.\u001b[0m\u001b[0msize\u001b[0m \u001b[1;33m>\u001b[0m \u001b[1;36m1\u001b[0m\u001b[1;33m:\u001b[0m\u001b[1;33m\u001b[0m\u001b[1;33m\u001b[0m\u001b[0m\n",
      "\u001b[1;32mpandas\\_libs\\index.pyx\u001b[0m in \u001b[0;36mpandas._libs.index.IndexEngine.get_loc\u001b[1;34m()\u001b[0m\n",
      "\u001b[1;32mpandas\\_libs\\index.pyx\u001b[0m in \u001b[0;36mpandas._libs.index.IndexEngine.get_loc\u001b[1;34m()\u001b[0m\n",
      "\u001b[1;32mpandas\\_libs\\hashtable_class_helper.pxi\u001b[0m in \u001b[0;36mpandas._libs.hashtable.PyObjectHashTable.get_item\u001b[1;34m()\u001b[0m\n",
      "\u001b[1;32mpandas\\_libs\\hashtable_class_helper.pxi\u001b[0m in \u001b[0;36mpandas._libs.hashtable.PyObjectHashTable.get_item\u001b[1;34m()\u001b[0m\n",
      "\u001b[1;31mKeyError\u001b[0m: 'Timestammp_dt'"
     ]
    }
   ],
   "source": [
    "data['seconds']=data['Timestammp_dt'].dt.second\n",
    "data.describe()"
   ]
  },
  {
   "cell_type": "code",
   "execution_count": 10,
   "metadata": {},
   "outputs": [
    {
     "data": {
      "text/html": [
       "<div>\n",
       "<style scoped>\n",
       "    .dataframe tbody tr th:only-of-type {\n",
       "        vertical-align: middle;\n",
       "    }\n",
       "\n",
       "    .dataframe tbody tr th {\n",
       "        vertical-align: top;\n",
       "    }\n",
       "\n",
       "    .dataframe thead th {\n",
       "        text-align: right;\n",
       "    }\n",
       "</style>\n",
       "<table border=\"1\" class=\"dataframe\">\n",
       "  <thead>\n",
       "    <tr style=\"text-align: right;\">\n",
       "      <th></th>\n",
       "      <th>Timestamp</th>\n",
       "      <th>Name</th>\n",
       "      <th>MailId</th>\n",
       "      <th>Branch</th>\n",
       "      <th>Qualification</th>\n",
       "      <th>RollNumber</th>\n",
       "    </tr>\n",
       "  </thead>\n",
       "  <tbody>\n",
       "    <tr>\n",
       "      <td>count</td>\n",
       "      <td>26</td>\n",
       "      <td>26</td>\n",
       "      <td>26</td>\n",
       "      <td>26</td>\n",
       "      <td>26</td>\n",
       "      <td>26</td>\n",
       "    </tr>\n",
       "    <tr>\n",
       "      <td>unique</td>\n",
       "      <td>25</td>\n",
       "      <td>26</td>\n",
       "      <td>26</td>\n",
       "      <td>14</td>\n",
       "      <td>14</td>\n",
       "      <td>26</td>\n",
       "    </tr>\n",
       "    <tr>\n",
       "      <td>top</td>\n",
       "      <td>30/01/2020 15:00:28</td>\n",
       "      <td>DASARI PAVAN SAI</td>\n",
       "      <td>devendra108148@gmail.com</td>\n",
       "      <td>Information Technology</td>\n",
       "      <td>B.Tech</td>\n",
       "      <td>245112769310</td>\n",
       "    </tr>\n",
       "    <tr>\n",
       "      <td>freq</td>\n",
       "      <td>2</td>\n",
       "      <td>1</td>\n",
       "      <td>1</td>\n",
       "      <td>4</td>\n",
       "      <td>7</td>\n",
       "      <td>1</td>\n",
       "    </tr>\n",
       "  </tbody>\n",
       "</table>\n",
       "</div>"
      ],
      "text/plain": [
       "                  Timestamp              Name                    MailId  \\\n",
       "count                    26                26                        26   \n",
       "unique                   25                26                        26   \n",
       "top     30/01/2020 15:00:28  DASARI PAVAN SAI  devendra108148@gmail.com   \n",
       "freq                      2                 1                         1   \n",
       "\n",
       "                        Branch Qualification    RollNumber  \n",
       "count                       26            26            26  \n",
       "unique                      14            14            26  \n",
       "top     Information Technology        B.Tech  245112769310  \n",
       "freq                         4             7             1  "
      ]
     },
     "execution_count": 10,
     "metadata": {},
     "output_type": "execute_result"
    }
   ],
   "source": [
    "data.describe(include=object)"
   ]
  },
  {
   "cell_type": "code",
   "execution_count": 13,
   "metadata": {},
   "outputs": [
    {
     "data": {
      "text/html": [
       "<div>\n",
       "<style scoped>\n",
       "    .dataframe tbody tr th:only-of-type {\n",
       "        vertical-align: middle;\n",
       "    }\n",
       "\n",
       "    .dataframe tbody tr th {\n",
       "        vertical-align: top;\n",
       "    }\n",
       "\n",
       "    .dataframe thead th {\n",
       "        text-align: right;\n",
       "    }\n",
       "</style>\n",
       "<table border=\"1\" class=\"dataframe\">\n",
       "  <thead>\n",
       "    <tr style=\"text-align: right;\">\n",
       "      <th></th>\n",
       "      <th>Timestamp</th>\n",
       "      <th>Name</th>\n",
       "      <th>MailId</th>\n",
       "      <th>Branch</th>\n",
       "      <th>Qualification</th>\n",
       "      <th>RollNumber</th>\n",
       "    </tr>\n",
       "  </thead>\n",
       "  <tbody>\n",
       "    <tr>\n",
       "      <td>count</td>\n",
       "      <td>26</td>\n",
       "      <td>26</td>\n",
       "      <td>26</td>\n",
       "      <td>26</td>\n",
       "      <td>26</td>\n",
       "      <td>26</td>\n",
       "    </tr>\n",
       "    <tr>\n",
       "      <td>unique</td>\n",
       "      <td>25</td>\n",
       "      <td>26</td>\n",
       "      <td>26</td>\n",
       "      <td>14</td>\n",
       "      <td>14</td>\n",
       "      <td>26</td>\n",
       "    </tr>\n",
       "    <tr>\n",
       "      <td>top</td>\n",
       "      <td>30/01/2020 15:00:28</td>\n",
       "      <td>DASARI PAVAN SAI</td>\n",
       "      <td>devendra108148@gmail.com</td>\n",
       "      <td>Information Technology</td>\n",
       "      <td>B.Tech</td>\n",
       "      <td>245112769310</td>\n",
       "    </tr>\n",
       "    <tr>\n",
       "      <td>freq</td>\n",
       "      <td>2</td>\n",
       "      <td>1</td>\n",
       "      <td>1</td>\n",
       "      <td>4</td>\n",
       "      <td>7</td>\n",
       "      <td>1</td>\n",
       "    </tr>\n",
       "  </tbody>\n",
       "</table>\n",
       "</div>"
      ],
      "text/plain": [
       "                  Timestamp              Name                    MailId  \\\n",
       "count                    26                26                        26   \n",
       "unique                   25                26                        26   \n",
       "top     30/01/2020 15:00:28  DASARI PAVAN SAI  devendra108148@gmail.com   \n",
       "freq                      2                 1                         1   \n",
       "\n",
       "                        Branch Qualification    RollNumber  \n",
       "count                       26            26            26  \n",
       "unique                      14            14            26  \n",
       "top     Information Technology        B.Tech  245112769310  \n",
       "freq                         4             7             1  "
      ]
     },
     "execution_count": 13,
     "metadata": {},
     "output_type": "execute_result"
    }
   ],
   "source": [
    "data.describe(include=object)"
   ]
  },
  {
   "cell_type": "code",
   "execution_count": 16,
   "metadata": {},
   "outputs": [
    {
     "name": "stdout",
     "output_type": "stream",
     "text": [
      "<class 'pandas.core.frame.DataFrame'>\n",
      "RangeIndex: 17 entries, 0 to 16\n",
      "Data columns (total 3 columns):\n",
      "Product_Category        17 non-null object\n",
      "Product_Sub_Category    17 non-null object\n",
      "Prod_id                 17 non-null object\n",
      "dtypes: object(3)\n",
      "memory usage: 536.0+ bytes\n"
     ]
    }
   ],
   "source": [
    "import pandas as pd\n",
    "prod_cat=pd.read_csv('https://raw.githubusercontent.com/sumathi16/Machine-Learning-with-Python/master/data/global_sales_data/prod_dimen.csv')\n",
    "prod_cat.info()"
   ]
  },
  {
   "cell_type": "code",
   "execution_count": null,
   "metadata": {},
   "outputs": [],
   "source": []
  },
  {
   "cell_type": "code",
   "execution_count": null,
   "metadata": {},
   "outputs": [],
   "source": []
  },
  {
   "cell_type": "code",
   "execution_count": null,
   "metadata": {},
   "outputs": [],
   "source": []
  },
  {
   "cell_type": "code",
   "execution_count": null,
   "metadata": {},
   "outputs": [],
   "source": []
  },
  {
   "cell_type": "code",
   "execution_count": null,
   "metadata": {},
   "outputs": [],
   "source": []
  },
  {
   "cell_type": "code",
   "execution_count": null,
   "metadata": {},
   "outputs": [],
   "source": []
  },
  {
   "cell_type": "code",
   "execution_count": null,
   "metadata": {},
   "outputs": [],
   "source": []
  },
  {
   "cell_type": "code",
   "execution_count": null,
   "metadata": {},
   "outputs": [],
   "source": []
  }
 ],
 "metadata": {
  "kernelspec": {
   "display_name": "Python 3",
   "language": "python",
   "name": "python3"
  },
  "language_info": {
   "codemirror_mode": {
    "name": "ipython",
    "version": 3
   },
   "file_extension": ".py",
   "mimetype": "text/x-python",
   "name": "python",
   "nbconvert_exporter": "python",
   "pygments_lexer": "ipython3",
   "version": "3.7.4"
  }
 },
 "nbformat": 4,
 "nbformat_minor": 2
}
