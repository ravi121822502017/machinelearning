{
 "cells": [
  {
   "cell_type": "markdown",
   "metadata": {},
   "source": [
    "## Topics\n",
    "- linalg\n",
    "- vectorize\n",
    "- How to read an image as numpy array"
   ]
  },
  {
   "cell_type": "code",
   "execution_count": 1,
   "metadata": {
    "collapsed": true
   },
   "outputs": [
    {
     "data": {
      "text/plain": [
       "['LinAlgError',\n",
       " '__builtins__',\n",
       " '__cached__',\n",
       " '__doc__',\n",
       " '__file__',\n",
       " '__loader__',\n",
       " '__name__',\n",
       " '__package__',\n",
       " '__path__',\n",
       " '__spec__',\n",
       " '_umath_linalg',\n",
       " 'absolute_import',\n",
       " 'cholesky',\n",
       " 'cond',\n",
       " 'det',\n",
       " 'division',\n",
       " 'eig',\n",
       " 'eigh',\n",
       " 'eigvals',\n",
       " 'eigvalsh',\n",
       " 'info',\n",
       " 'inv',\n",
       " 'lapack_lite',\n",
       " 'linalg',\n",
       " 'lstsq',\n",
       " 'matrix_power',\n",
       " 'matrix_rank',\n",
       " 'multi_dot',\n",
       " 'norm',\n",
       " 'pinv',\n",
       " 'print_function',\n",
       " 'qr',\n",
       " 'slogdet',\n",
       " 'solve',\n",
       " 'svd',\n",
       " 'tensorinv',\n",
       " 'tensorsolve',\n",
       " 'test']"
      ]
     },
     "execution_count": 1,
     "metadata": {},
     "output_type": "execute_result"
    }
   ],
   "source": [
    "import numpy as np\n",
    "dir(np.linalg)"
   ]
  },
  {
   "cell_type": "code",
   "execution_count": 2,
   "metadata": {
    "collapsed": true
   },
   "outputs": [
    {
     "data": {
      "text/plain": [
       "['Inf',\n",
       " 'LinAlgError',\n",
       " '_A',\n",
       " '_L',\n",
       " '_N',\n",
       " '_S',\n",
       " '_V',\n",
       " '__all__',\n",
       " '__builtins__',\n",
       " '__cached__',\n",
       " '__doc__',\n",
       " '__file__',\n",
       " '__loader__',\n",
       " '__name__',\n",
       " '__package__',\n",
       " '__spec__',\n",
       " '_assertFinite',\n",
       " '_assertNdSquareness',\n",
       " '_assertNoEmpty2d',\n",
       " '_assertRank2',\n",
       " '_assertRankAtLeast2',\n",
       " '_commonType',\n",
       " '_complexType',\n",
       " '_complex_types_map',\n",
       " '_cond_dispatcher',\n",
       " '_convertarray',\n",
       " '_eigvalsh_dispatcher',\n",
       " '_fastCT',\n",
       " '_fastCopyAndTranspose',\n",
       " '_isEmpty2d',\n",
       " '_linalgRealType',\n",
       " '_linalg_error_extobj',\n",
       " '_lstsq_dispatcher',\n",
       " '_makearray',\n",
       " '_matrix_power_dispatcher',\n",
       " '_matrix_rank_dispatcher',\n",
       " '_multi_dot',\n",
       " '_multi_dot_matrix_chain_order',\n",
       " '_multi_dot_three',\n",
       " '_multi_svd_norm',\n",
       " '_multidot_dispatcher',\n",
       " '_norm_dispatcher',\n",
       " '_pinv_dispatcher',\n",
       " '_qr_dispatcher',\n",
       " '_raise_linalgerror_eigenvalues_nonconvergence',\n",
       " '_raise_linalgerror_lstsq',\n",
       " '_raise_linalgerror_nonposdef',\n",
       " '_raise_linalgerror_singular',\n",
       " '_raise_linalgerror_svd_nonconvergence',\n",
       " '_realType',\n",
       " '_real_types_map',\n",
       " '_solve_dispatcher',\n",
       " '_svd_dispatcher',\n",
       " '_tensorinv_dispatcher',\n",
       " '_tensorsolve_dispatcher',\n",
       " '_to_native_byte_order',\n",
       " '_umath_linalg',\n",
       " '_unary_dispatcher',\n",
       " 'abs',\n",
       " 'absolute_import',\n",
       " 'add',\n",
       " 'all',\n",
       " 'amax',\n",
       " 'amin',\n",
       " 'array',\n",
       " 'array_function_dispatch',\n",
       " 'asanyarray',\n",
       " 'asarray',\n",
       " 'atleast_2d',\n",
       " 'cdouble',\n",
       " 'cholesky',\n",
       " 'complexfloating',\n",
       " 'cond',\n",
       " 'count_nonzero',\n",
       " 'csingle',\n",
       " 'det',\n",
       " 'divide',\n",
       " 'division',\n",
       " 'dot',\n",
       " 'double',\n",
       " 'eig',\n",
       " 'eigh',\n",
       " 'eigvals',\n",
       " 'eigvalsh',\n",
       " 'empty',\n",
       " 'empty_like',\n",
       " 'errstate',\n",
       " 'eye',\n",
       " 'fastCopyAndTranspose',\n",
       " 'finfo',\n",
       " 'fortran_int',\n",
       " 'functools',\n",
       " 'get_linalg_error_extobj',\n",
       " 'geterrobj',\n",
       " 'inexact',\n",
       " 'intc',\n",
       " 'intp',\n",
       " 'inv',\n",
       " 'isComplexType',\n",
       " 'isfinite',\n",
       " 'isnan',\n",
       " 'lapack_lite',\n",
       " 'lstsq',\n",
       " 'matmul',\n",
       " 'matrix_power',\n",
       " 'matrix_rank',\n",
       " 'moveaxis',\n",
       " 'multi_dot',\n",
       " 'multiply',\n",
       " 'newaxis',\n",
       " 'norm',\n",
       " 'normalize_axis_index',\n",
       " 'object_',\n",
       " 'operator',\n",
       " 'overrides',\n",
       " 'pinv',\n",
       " 'print_function',\n",
       " 'product',\n",
       " 'qr',\n",
       " 'set_module',\n",
       " 'single',\n",
       " 'slogdet',\n",
       " 'solve',\n",
       " 'sqrt',\n",
       " 'sum',\n",
       " 'svd',\n",
       " 'swapaxes',\n",
       " 'tensorinv',\n",
       " 'tensorsolve',\n",
       " 'transpose',\n",
       " 'triu',\n",
       " 'warnings',\n",
       " 'zeros']"
      ]
     },
     "execution_count": 2,
     "metadata": {},
     "output_type": "execute_result"
    }
   ],
   "source": [
    "dir(np.linalg.linalg)"
   ]
  },
  {
   "cell_type": "code",
   "execution_count": 5,
   "metadata": {},
   "outputs": [
    {
     "name": "stdout",
     "output_type": "stream",
     "text": [
      "6\n",
      "2\n"
     ]
    }
   ],
   "source": [
    "print(np.dot(2,3))\n",
    "print(np.dot([1],[2]))"
   ]
  },
  {
   "cell_type": "code",
   "execution_count": 6,
   "metadata": {},
   "outputs": [
    {
     "name": "stdout",
     "output_type": "stream",
     "text": [
      "[[4 4]\n",
      " [4 4]]\n",
      "[[1. 0.]\n",
      " [0. 1.]]\n"
     ]
    }
   ],
   "source": [
    "a= np.full((2,2),4)\n",
    "b=np.eye(2)\n",
    "print(a)\n",
    "print(b)"
   ]
  },
  {
   "cell_type": "code",
   "execution_count": 8,
   "metadata": {},
   "outputs": [
    {
     "name": "stdout",
     "output_type": "stream",
     "text": [
      "[[4. 0.]\n",
      " [0. 4.]]\n",
      "[[4. 4.]\n",
      " [4. 4.]]\n"
     ]
    }
   ],
   "source": [
    "print(a*b)  # Element wise multiplication\n",
    "print(np.dot(a,b)) # Matrix multiplication"
   ]
  },
  {
   "cell_type": "code",
   "execution_count": 9,
   "metadata": {},
   "outputs": [
    {
     "data": {
      "text/plain": [
       "array([[4., 4.],\n",
       "       [4., 4.]])"
      ]
     },
     "execution_count": 9,
     "metadata": {},
     "output_type": "execute_result"
    }
   ],
   "source": [
    "np.matmul(a,b) # Matrix multiplication "
   ]
  },
  {
   "cell_type": "code",
   "execution_count": 10,
   "metadata": {},
   "outputs": [
    {
     "data": {
      "text/plain": [
       "(array([3., 6., 9.]), array([[1., 0., 0.],\n",
       "        [0., 1., 0.],\n",
       "        [0., 0., 1.]]))"
      ]
     },
     "execution_count": 10,
     "metadata": {},
     "output_type": "execute_result"
    }
   ],
   "source": [
    "c= np.diag([3,6,9])\n",
    "np.linalg.eig(c)"
   ]
  },
  {
   "cell_type": "code",
   "execution_count": 11,
   "metadata": {},
   "outputs": [],
   "source": [
    "d = np.random.randint(100,size=(3,3))\n",
    "values,vector = np.linalg.eig(d)"
   ]
  },
  {
   "cell_type": "code",
   "execution_count": 12,
   "metadata": {},
   "outputs": [
    {
     "data": {
      "text/plain": [
       "array([156.52597938, -10.35254236,  67.82656298])"
      ]
     },
     "execution_count": 12,
     "metadata": {},
     "output_type": "execute_result"
    }
   ],
   "source": [
    "values"
   ]
  },
  {
   "cell_type": "code",
   "execution_count": 13,
   "metadata": {},
   "outputs": [
    {
     "data": {
      "text/plain": [
       "array([[ 0.34982858,  0.80254315, -0.22319284],\n",
       "       [ 0.59625934, -0.50968363, -0.34863876],\n",
       "       [ 0.72256125,  0.31007594,  0.91029444]])"
      ]
     },
     "execution_count": 13,
     "metadata": {},
     "output_type": "execute_result"
    }
   ],
   "source": [
    "vector"
   ]
  },
  {
   "cell_type": "markdown",
   "metadata": {},
   "source": [
    "### Topic\n",
    "- Normal distribution\n",
    "- Standard Deviation   \n",
    "- Quantiles\n",
    "- Eigenvalues,vectors"
   ]
  },
  {
   "cell_type": "code",
   "execution_count": 14,
   "metadata": {},
   "outputs": [
    {
     "data": {
      "text/plain": [
       "1.0"
      ]
     },
     "execution_count": 14,
     "metadata": {},
     "output_type": "execute_result"
    }
   ],
   "source": [
    "np.linalg.det(np.eye(2))"
   ]
  },
  {
   "cell_type": "code",
   "execution_count": 15,
   "metadata": {},
   "outputs": [
    {
     "data": {
      "text/plain": [
       "1.0000000000000002"
      ]
     },
     "execution_count": 15,
     "metadata": {},
     "output_type": "execute_result"
    }
   ],
   "source": [
    "d = np.array([[3,2],[1,1]])\n",
    "np.linalg.det(d)"
   ]
  },
  {
   "cell_type": "markdown",
   "metadata": {},
   "source": [
    "math.log # normal log<br>\n",
    "np.log # vectorized log function"
   ]
  },
  {
   "cell_type": "code",
   "execution_count": 16,
   "metadata": {},
   "outputs": [
    {
     "name": "stdout",
     "output_type": "stream",
     "text": [
      "[31 23 48 20 49 41 23 24 45 44]\n",
      "[35 21 34 41 45 42 28 43 34 28]\n"
     ]
    }
   ],
   "source": [
    "np.random.seed(45)\n",
    "a = np.random.randint(20,50,10)\n",
    "b = np.random.randint(20,50,10)\n",
    "print(a)\n",
    "print(b)"
   ]
  },
  {
   "cell_type": "code",
   "execution_count": 21,
   "metadata": {},
   "outputs": [
    {
     "data": {
      "text/plain": [
       "array([35, 23, 48, 41, 49, 42, 28, 43, 45, 44])"
      ]
     },
     "execution_count": 21,
     "metadata": {},
     "output_type": "execute_result"
    }
   ],
   "source": [
    "# c = [35 23 48 41 49 41 28 43 45 44]\n",
    "np.maximum(a,b)"
   ]
  },
  {
   "cell_type": "code",
   "execution_count": 19,
   "metadata": {},
   "outputs": [
    {
     "name": "stdout",
     "output_type": "stream",
     "text": [
      "56\n",
      "87\n"
     ]
    }
   ],
   "source": [
    "def large (n1,n2):\n",
    "    if n1>n2:\n",
    "        return n1\n",
    "    else:\n",
    "        return n2\n",
    "print(large(56,34))\n",
    "print(large(37,87))"
   ]
  },
  {
   "cell_type": "code",
   "execution_count": 20,
   "metadata": {},
   "outputs": [
    {
     "data": {
      "text/plain": [
       "array([35, 23, 48, 41, 49, 42, 28, 43, 45, 44])"
      ]
     },
     "execution_count": 20,
     "metadata": {},
     "output_type": "execute_result"
    }
   ],
   "source": [
    "vlarge = np.vectorize(large)\n",
    "vlarge(a,b)"
   ]
  },
  {
   "cell_type": "code",
   "execution_count": 33,
   "metadata": {},
   "outputs": [
    {
     "name": "stdout",
     "output_type": "stream",
     "text": [
      "[[[0.91764706 0.90588236 0.84705883]\n",
      "  [0.91764706 0.90588236 0.84705883]\n",
      "  [0.91764706 0.90588236 0.84705883]\n",
      "  ...\n",
      "  [0.91764706 0.90588236 0.84705883]\n",
      "  [0.91764706 0.90588236 0.84705883]\n",
      "  [0.91764706 0.90588236 0.84705883]]\n",
      "\n",
      " [[0.91764706 0.90588236 0.84705883]\n",
      "  [0.91764706 0.90588236 0.84705883]\n",
      "  [0.91764706 0.90588236 0.84705883]\n",
      "  ...\n",
      "  [0.91764706 0.90588236 0.84705883]\n",
      "  [0.91764706 0.90588236 0.84705883]\n",
      "  [0.91764706 0.90588236 0.84705883]]\n",
      "\n",
      " [[0.91764706 0.90588236 0.84705883]\n",
      "  [0.91764706 0.90588236 0.84705883]\n",
      "  [0.91764706 0.90588236 0.84705883]\n",
      "  ...\n",
      "  [0.91764706 0.90588236 0.84705883]\n",
      "  [0.91764706 0.90588236 0.84705883]\n",
      "  [0.91764706 0.90588236 0.84705883]]\n",
      "\n",
      " ...\n",
      "\n",
      " [[0.91764706 0.90588236 0.84705883]\n",
      "  [0.91764706 0.90588236 0.84705883]\n",
      "  [0.91764706 0.90588236 0.84705883]\n",
      "  ...\n",
      "  [0.91764706 0.90588236 0.84705883]\n",
      "  [0.91764706 0.90588236 0.84705883]\n",
      "  [0.91764706 0.90588236 0.84705883]]\n",
      "\n",
      " [[0.91764706 0.90588236 0.84705883]\n",
      "  [0.91764706 0.90588236 0.84705883]\n",
      "  [0.91764706 0.90588236 0.84705883]\n",
      "  ...\n",
      "  [0.91764706 0.90588236 0.84705883]\n",
      "  [0.91764706 0.90588236 0.84705883]\n",
      "  [0.91764706 0.90588236 0.84705883]]\n",
      "\n",
      " [[0.91764706 0.90588236 0.84705883]\n",
      "  [0.91764706 0.90588236 0.84705883]\n",
      "  [0.91764706 0.90588236 0.84705883]\n",
      "  ...\n",
      "  [0.91764706 0.90588236 0.84705883]\n",
      "  [0.91764706 0.90588236 0.84705883]\n",
      "  [0.91764706 0.90588236 0.84705883]]]\n",
      "<class 'numpy.ndarray'>\n"
     ]
    }
   ],
   "source": [
    "import matplotlib.pyplot as plt\n",
    "img = plt.imread('a.png')\n",
    "print(img)\n",
    "print(type(img))"
   ]
  },
  {
   "cell_type": "code",
   "execution_count": 28,
   "metadata": {},
   "outputs": [
    {
     "data": {
      "text/plain": [
       "(1311, 1273, 3)"
      ]
     },
     "execution_count": 28,
     "metadata": {},
     "output_type": "execute_result"
    }
   ],
   "source": [
    "img.shape"
   ]
  },
  {
   "cell_type": "markdown",
   "metadata": {},
   "source": [
    "### To Represent an image in pixles \n",
    "- RGB\n",
    "- RGBA"
   ]
  },
  {
   "cell_type": "code",
   "execution_count": 29,
   "metadata": {},
   "outputs": [
    {
     "data": {
      "text/plain": [
       "<matplotlib.image.AxesImage at 0x244fc4dc88>"
      ]
     },
     "execution_count": 29,
     "metadata": {},
     "output_type": "execute_result"
    },
    {
     "data": {
      "image/png": "[encoded data removed]",
      "text/plain": [
       "<Figure size 432x288 with 1 Axes>"
      ]
     },
     "metadata": {
      "needs_background": "light"
     },
     "output_type": "display_data"
    }
   ],
   "source": [
    "plt.imshow(img)"
   ]
  },
  {
   "cell_type": "code",
   "execution_count": 32,
   "metadata": {},
   "outputs": [
    {
     "data": {
      "text/plain": [
       "<matplotlib.image.AxesImage at 0x2451ebaf88>"
      ]
     },
     "execution_count": 32,
     "metadata": {},
     "output_type": "execute_result"
    },
    {
     "data": {
      "image/png": "[encoded data removed]",
      "text/plain": [
       "<Figure size 432x288 with 1 Axes>"
      ]
     },
     "metadata": {
      "needs_background": "light"
     },
     "output_type": "display_data"
    }
   ],
   "source": [
    "plt.imshow(img[:650,:650])"
   ]
  },
  {
   "cell_type": "code",
   "execution_count": 34,
   "metadata": {},
   "outputs": [
    {
     "data": {
      "text/plain": [
       "array([0.91764706, 0.90588236, 0.84705883], dtype=float32)"
      ]
     },
     "execution_count": 34,
     "metadata": {},
     "output_type": "execute_result"
    }
   ],
   "source": [
    "img[0,0,:] "
   ]
  },
  {
   "cell_type": "code",
   "execution_count": 35,
   "metadata": {},
   "outputs": [
    {
     "data": {
      "text/plain": [
       "array([0.90588236, 0.8901961 , 0.84313726], dtype=float32)"
      ]
     },
     "execution_count": 35,
     "metadata": {},
     "output_type": "execute_result"
    }
   ],
   "source": [
    "img[500,500,:]"
   ]
  },
  {
   "cell_type": "code",
   "execution_count": 37,
   "metadata": {},
   "outputs": [
    {
     "data": {
      "text/plain": [
       "(1.0, 0.0)"
      ]
     },
     "execution_count": 37,
     "metadata": {},
     "output_type": "execute_result"
    }
   ],
   "source": [
    "np.max(img),np.min(img)"
   ]
  },
  {
   "cell_type": "code",
   "execution_count": 39,
   "metadata": {},
   "outputs": [
    {
     "data": {
      "text/plain": [
       "<matplotlib.image.AxesImage at 0x2451f36788>"
      ]
     },
     "execution_count": 39,
     "metadata": {},
     "output_type": "execute_result"
    },
    {
     "data": {
      "image/png": "[encoded data removed]",
      "text/plain": [
       "<Figure size 432x288 with 1 Axes>"
      ]
     },
     "metadata": {
      "needs_background": "light"
     },
     "output_type": "display_data"
    }
   ],
   "source": [
    "plt.imshow(img[340:650])"
   ]
  },
  {
   "cell_type": "code",
   "execution_count": 44,
   "metadata": {},
   "outputs": [
    {
     "data": {
      "text/plain": [
       "<matplotlib.image.AxesImage at 0x24520ffa48>"
      ]
     },
     "execution_count": 44,
     "metadata": {},
     "output_type": "execute_result"
    },
    {
     "data": {
      "image/png": "[encoded data removed]",
      "text/plain": [
       "<Figure size 432x288 with 1 Axes>"
      ]
     },
     "metadata": {
      "needs_background": "light"
     },
     "output_type": "display_data"
    }
   ],
   "source": [
    "img1 = np.resize(img,(190,512,3))\n",
    "plt.imshow(img1)"
   ]
  },
  {
   "cell_type": "code",
   "execution_count": 45,
   "metadata": {},
   "outputs": [
    {
     "data": {
      "text/plain": [
       "array([[ 0,  1,  2,  3,  4,  5,  6,  7,  8,  9],\n",
       "       [10, 11, 12, 13, 14, 15, 16, 17, 18, 19],\n",
       "       [20, 21, 22, 23, 24, 25, 26, 27, 28, 29],\n",
       "       [30, 31, 32, 33, 34, 35, 36, 37, 38, 39],\n",
       "       [40, 41, 42, 43, 44,  0,  1,  2,  3,  4]])"
      ]
     },
     "execution_count": 45,
     "metadata": {},
     "output_type": "execute_result"
    }
   ],
   "source": [
    "a = np.arange(45).reshape(5,9)\n",
    "np.resize(a,(5,10))"
   ]
  },
  {
   "cell_type": "code",
   "execution_count": null,
   "metadata": {},
   "outputs": [],
   "source": []
  }
 ],
 "metadata": {
  "kernelspec": {
   "display_name": "Python 3",
   "language": "python",
   "name": "python3"
  },
  "language_info": {
   "codemirror_mode": {
    "name": "ipython",
    "version": 3
   },
   "file_extension": ".py",
   "mimetype": "text/x-python",
   "name": "python",
   "nbconvert_exporter": "python",
   "pygments_lexer": "ipython3",
   "version": "3.7.4"
  }
 },
 "nbformat": 4,
 "nbformat_minor": 2
}
